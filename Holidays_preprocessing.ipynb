{
  "cells": [
    {
      "metadata": {
        "_uuid": "8f2839f25d086af736a60e9eeb907d3b93b6e0e5",
        "_cell_guid": "b1076dfc-b9ad-4769-8c92-a6c4dae69d19",
        "trusted": true
      },
      "cell_type": "code",
      "source": "# This Python 3 environment comes with many helpful analytics libraries installed\n# It is defined by the kaggle/python docker image: https://github.com/kaggle/docker-python\n# For example, here's several helpful packages to load in \n\nimport numpy as np # linear algebra\nimport pandas as pd # data processing, CSV file I/O (e.g. pd.read_csv)\n\n# Input data files are available in the \"../input/\" directory.\n# For example, running this (by clicking run or pressing Shift+Enter) will list the files in the input directory\n\nimport os\nprint(os.listdir(\"../input\"))\nimport matplotlib.pyplot as plt\nimport datetime\n# Any results you write to the current directory are saved as output.",
      "execution_count": 261,
      "outputs": [
        {
          "output_type": "stream",
          "text": "['holidays.csv']\n",
          "name": "stdout"
        }
      ]
    },
    {
      "metadata": {
        "_cell_guid": "79c7e3d0-c299-4dcb-8224-4455121ee9b0",
        "_uuid": "d629ff2d2480ee46fbb7e2d37f6b5fab8052498a",
        "trusted": true,
        "collapsed": true
      },
      "cell_type": "code",
      "source": "hol=pd.read_csv(\"../input/holidays.csv\")",
      "execution_count": 262,
      "outputs": []
    },
    {
      "metadata": {
        "trusted": true,
        "_uuid": "bf5b9d088deb570fb77c9c39243910ca125c1d03"
      },
      "cell_type": "code",
      "source": "hol.head()",
      "execution_count": 263,
      "outputs": [
        {
          "output_type": "execute_result",
          "execution_count": 263,
          "data": {
            "text/plain": "          Date  Country\n0   2014, 1, 1  Denmark\n1  2014, 4, 17  Denmark\n2  2014, 4, 18  Denmark\n3  2014, 4, 20  Denmark\n4  2014, 4, 21  Denmark",
            "text/html": "<div>\n<style scoped>\n    .dataframe tbody tr th:only-of-type {\n        vertical-align: middle;\n    }\n\n    .dataframe tbody tr th {\n        vertical-align: top;\n    }\n\n    .dataframe thead th {\n        text-align: right;\n    }\n</style>\n<table border=\"1\" class=\"dataframe\">\n  <thead>\n    <tr style=\"text-align: right;\">\n      <th></th>\n      <th>Date</th>\n      <th>Country</th>\n    </tr>\n  </thead>\n  <tbody>\n    <tr>\n      <th>0</th>\n      <td>2014, 1, 1</td>\n      <td>Denmark</td>\n    </tr>\n    <tr>\n      <th>1</th>\n      <td>2014, 4, 17</td>\n      <td>Denmark</td>\n    </tr>\n    <tr>\n      <th>2</th>\n      <td>2014, 4, 18</td>\n      <td>Denmark</td>\n    </tr>\n    <tr>\n      <th>3</th>\n      <td>2014, 4, 20</td>\n      <td>Denmark</td>\n    </tr>\n    <tr>\n      <th>4</th>\n      <td>2014, 4, 21</td>\n      <td>Denmark</td>\n    </tr>\n  </tbody>\n</table>\n</div>"
          },
          "metadata": {}
        }
      ]
    },
    {
      "metadata": {
        "_uuid": "9c7baaf156bb12198c0f5395e45bb74b6f5b5425"
      },
      "cell_type": "raw",
      "source": ""
    },
    {
      "metadata": {
        "trusted": true,
        "_uuid": "e2899c9071df3369da8e80d125d71db38ed42fd9",
        "collapsed": true
      },
      "cell_type": "code",
      "source": "year=[]\nmonth=[]\nfor i in range(len(hol.Date)):\n    ans= datetime.datetime.strptime(str(hol.Date[i]), \"%Y, %m, %d\")\n    year.append(ans.year)\n    month.append(ans.month)",
      "execution_count": 264,
      "outputs": []
    },
    {
      "metadata": {
        "trusted": true,
        "_uuid": "949bbed5ab64241629065bc4877ea6479d48dda2",
        "collapsed": true
      },
      "cell_type": "code",
      "source": "hol['Year']=year\nhol['Month']=month\n",
      "execution_count": 265,
      "outputs": []
    },
    {
      "metadata": {
        "trusted": true,
        "_uuid": "40e74d40834f01659ed1953c6fa240f96235fd4c",
        "collapsed": true
      },
      "cell_type": "code",
      "source": "hol=hol.drop(columns=['Date'])",
      "execution_count": 266,
      "outputs": []
    },
    {
      "metadata": {
        "trusted": true,
        "_uuid": "ca7506271ea0687301ec80b32e5e9864e2c6536b"
      },
      "cell_type": "code",
      "source": "hol.head()",
      "execution_count": 267,
      "outputs": [
        {
          "output_type": "execute_result",
          "execution_count": 267,
          "data": {
            "text/plain": "   Country  Year  Month\n0  Denmark  2014      1\n1  Denmark  2014      4\n2  Denmark  2014      4\n3  Denmark  2014      4\n4  Denmark  2014      4",
            "text/html": "<div>\n<style scoped>\n    .dataframe tbody tr th:only-of-type {\n        vertical-align: middle;\n    }\n\n    .dataframe tbody tr th {\n        vertical-align: top;\n    }\n\n    .dataframe thead th {\n        text-align: right;\n    }\n</style>\n<table border=\"1\" class=\"dataframe\">\n  <thead>\n    <tr style=\"text-align: right;\">\n      <th></th>\n      <th>Country</th>\n      <th>Year</th>\n      <th>Month</th>\n    </tr>\n  </thead>\n  <tbody>\n    <tr>\n      <th>0</th>\n      <td>Denmark</td>\n      <td>2014</td>\n      <td>1</td>\n    </tr>\n    <tr>\n      <th>1</th>\n      <td>Denmark</td>\n      <td>2014</td>\n      <td>4</td>\n    </tr>\n    <tr>\n      <th>2</th>\n      <td>Denmark</td>\n      <td>2014</td>\n      <td>4</td>\n    </tr>\n    <tr>\n      <th>3</th>\n      <td>Denmark</td>\n      <td>2014</td>\n      <td>4</td>\n    </tr>\n    <tr>\n      <th>4</th>\n      <td>Denmark</td>\n      <td>2014</td>\n      <td>4</td>\n    </tr>\n  </tbody>\n</table>\n</div>"
          },
          "metadata": {}
        }
      ]
    },
    {
      "metadata": {
        "trusted": true,
        "_uuid": "3c8319839a9b393276777cc506a3ffd674048d6c"
      },
      "cell_type": "code",
      "source": "hol = hol.groupby(hol.columns.tolist()).size().reset_index().rename(columns={0:'Holidays_per_month'})\n#df.columns=['Country','Year','Month','Total']\nhol.head()",
      "execution_count": 268,
      "outputs": [
        {
          "output_type": "execute_result",
          "execution_count": 268,
          "data": {
            "text/plain": "     Country  Year  Month  Holidays_per_month\n0  Argentina  2011      1                   1\n1  Argentina  2011      3                   3\n2  Argentina  2011      4                   4\n3  Argentina  2011      5                   2\n4  Argentina  2011      6                   2",
            "text/html": "<div>\n<style scoped>\n    .dataframe tbody tr th:only-of-type {\n        vertical-align: middle;\n    }\n\n    .dataframe tbody tr th {\n        vertical-align: top;\n    }\n\n    .dataframe thead th {\n        text-align: right;\n    }\n</style>\n<table border=\"1\" class=\"dataframe\">\n  <thead>\n    <tr style=\"text-align: right;\">\n      <th></th>\n      <th>Country</th>\n      <th>Year</th>\n      <th>Month</th>\n      <th>Holidays_per_month</th>\n    </tr>\n  </thead>\n  <tbody>\n    <tr>\n      <th>0</th>\n      <td>Argentina</td>\n      <td>2011</td>\n      <td>1</td>\n      <td>1</td>\n    </tr>\n    <tr>\n      <th>1</th>\n      <td>Argentina</td>\n      <td>2011</td>\n      <td>3</td>\n      <td>3</td>\n    </tr>\n    <tr>\n      <th>2</th>\n      <td>Argentina</td>\n      <td>2011</td>\n      <td>4</td>\n      <td>4</td>\n    </tr>\n    <tr>\n      <th>3</th>\n      <td>Argentina</td>\n      <td>2011</td>\n      <td>5</td>\n      <td>2</td>\n    </tr>\n    <tr>\n      <th>4</th>\n      <td>Argentina</td>\n      <td>2011</td>\n      <td>6</td>\n      <td>2</td>\n    </tr>\n  </tbody>\n</table>\n</div>"
          },
          "metadata": {}
        }
      ]
    },
    {
      "metadata": {
        "trusted": true,
        "_uuid": "b32a07ebe42e94765a641e1a05872342572294dd"
      },
      "cell_type": "code",
      "source": "hol.Country.unique()",
      "execution_count": 269,
      "outputs": [
        {
          "output_type": "execute_result",
          "execution_count": 269,
          "data": {
            "text/plain": "array(['Argentina', 'Belgium', 'Columbia', 'Denmark', 'England',\n       'Finland'], dtype=object)"
          },
          "metadata": {}
        }
      ]
    },
    {
      "metadata": {
        "trusted": true,
        "_uuid": "97654a4b1bbfcaf5483cda5cfe9a6260a7c5548e"
      },
      "cell_type": "code",
      "source": "hol_arg=hol[hol.Country=='Argentina']\nhol_fin=hol[hol.Country=='Finland']\nhol_bel=hol[hol.Country=='Belgium']\nhol_col=hol[hol.Country=='Columbia']\nhol_den=hol[hol.Country=='Denmark']\nhol_eng=hol[hol.Country=='England']",
      "execution_count": 270,
      "outputs": []
    },
    {
      "metadata": {
        "trusted": true,
        "_uuid": "6893f515d7415704897e9bf30600c27aad4c2f41"
      },
      "cell_type": "code",
      "source": "hol_arg.groupby(['Month'])['Holidays_per_month'].sum().plot(kind='bar')",
      "execution_count": 271,
      "outputs": [
        {
          "output_type": "execute_result",
          "execution_count": 271,
          "data": {
            "text/plain": "<matplotlib.axes._subplots.AxesSubplot at 0x7fc7637eae10>"
          },
          "metadata": {}
        },
        {
          "output_type": "display_data",
          "data": {
            "text/plain": "<matplotlib.figure.Figure at 0x7fc7637d0860>",
            "image/png": "[encoded data removed]"
          },
          "metadata": {}
        }
      ]
    },
    {
      "metadata": {
        "trusted": true,
        "_uuid": "62e56f8263d03aa20f453696a24d9ff4f6de3d52"
      },
      "cell_type": "code",
      "source": "hol_fin.groupby(['Month'])['Holidays_per_month'].sum().plot(kind='bar')",
      "execution_count": 272,
      "outputs": [
        {
          "output_type": "execute_result",
          "execution_count": 272,
          "data": {
            "text/plain": "<matplotlib.axes._subplots.AxesSubplot at 0x7fc76397f6d8>"
          },
          "metadata": {}
        },
        {
          "output_type": "display_data",
          "data": {
            "text/plain": "<matplotlib.figure.Figure at 0x7fc76382e668>",
            "image/png": "[encoded data removed]"
          },
          "metadata": {}
        }
      ]
    },
    {
      "metadata": {
        "trusted": true,
        "_uuid": "dc2d9ce9c7b481130b8f959254cd5a15e4c56bf3"
      },
      "cell_type": "code",
      "source": "\nhol_bel.groupby(['Month'])['Holidays_per_month'].sum().plot(kind='bar')\n",
      "execution_count": 273,
      "outputs": [
        {
          "output_type": "execute_result",
          "execution_count": 273,
          "data": {
            "text/plain": "<matplotlib.axes._subplots.AxesSubplot at 0x7fc763732f28>"
          },
          "metadata": {}
        },
        {
          "output_type": "display_data",
          "data": {
            "text/plain": "<matplotlib.figure.Figure at 0x7fc763678668>",
            "image/png": "[encoded data removed]"
          },
          "metadata": {}
        }
      ]
    },
    {
      "metadata": {
        "trusted": true,
        "_uuid": "db17e677838173e3317393207840274dba543166"
      },
      "cell_type": "code",
      "source": "hol_col.groupby(['Month'])['Holidays_per_month'].sum().plot(kind='bar')",
      "execution_count": 274,
      "outputs": [
        {
          "output_type": "execute_result",
          "execution_count": 274,
          "data": {
            "text/plain": "<matplotlib.axes._subplots.AxesSubplot at 0x7fc763636828>"
          },
          "metadata": {}
        },
        {
          "output_type": "display_data",
          "data": {
            "text/plain": "<matplotlib.figure.Figure at 0x7fc7636b2860>",
            "image/png": "[encoded data removed]"
          },
          "metadata": {}
        }
      ]
    },
    {
      "metadata": {
        "trusted": true,
        "_uuid": "9c1fd9b8cd7e2c2e23baa205c18c3abdd5cd164e"
      },
      "cell_type": "code",
      "source": "hol_den.groupby(['Month'])['Holidays_per_month'].sum().plot(kind='bar')",
      "execution_count": 275,
      "outputs": [
        {
          "output_type": "execute_result",
          "execution_count": 275,
          "data": {
            "text/plain": "<matplotlib.axes._subplots.AxesSubplot at 0x7fc7635708d0>"
          },
          "metadata": {}
        },
        {
          "output_type": "display_data",
          "data": {
            "text/plain": "<matplotlib.figure.Figure at 0x7fc7635e2978>",
            "image/png": "[encoded data removed]"
          },
          "metadata": {}
        }
      ]
    },
    {
      "metadata": {
        "trusted": true,
        "_uuid": "a1c26b2370c856fb3765f5a659ef3509bdbc45cf"
      },
      "cell_type": "code",
      "source": "hol_eng.groupby(['Month'])['Holidays_per_month'].sum().plot(kind='bar')",
      "execution_count": 276,
      "outputs": [
        {
          "output_type": "execute_result",
          "execution_count": 276,
          "data": {
            "text/plain": "<matplotlib.axes._subplots.AxesSubplot at 0x7fc76383da20>"
          },
          "metadata": {}
        },
        {
          "output_type": "display_data",
          "data": {
            "text/plain": "<matplotlib.figure.Figure at 0x7fc7635e2f98>",
            "image/png": "[encoded data removed]"
          },
          "metadata": {}
        }
      ]
    },
    {
      "metadata": {
        "trusted": true,
        "collapsed": true,
        "_uuid": "56f0b991d1bb41efa93174f8143341e4e0282a21"
      },
      "cell_type": "code",
      "source": "",
      "execution_count": null,
      "outputs": []
    }
  ],
  "metadata": {
    "kernelspec": {
      "display_name": "Python 3",
      "language": "python",
      "name": "python3"
    },
    "language_info": {
      "name": "python",
      "version": "3.6.6",
      "mimetype": "text/x-python",
      "codemirror_mode": {
        "name": "ipython",
        "version": 3
      },
      "pygments_lexer": "ipython3",
      "nbconvert_exporter": "python",
      "file_extension": ".py"
    }
  },
  "nbformat": 4,
  "nbformat_minor": 1
}